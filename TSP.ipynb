{
 "cells": [
  {
   "cell_type": "code",
   "execution_count": 1,
   "metadata": {},
   "outputs": [
    {
     "name": "stdout",
     "output_type": "stream",
     "text": [
      "Using matplotlib backend: <object object at 0x000001EE43B970F0>\n"
     ]
    }
   ],
   "source": [
    "from nn import NN_algo, gen_distance_matrix\n",
    "from genetics import genetic_algo\n",
    "from aco import aco_algo\n",
    "\n",
    "import matplotlib.pyplot as plt\n",
    "import pandas as pd\n",
    "%matplotlib"
   ]
  },
  {
   "cell_type": "code",
   "execution_count": 2,
   "metadata": {},
   "outputs": [],
   "source": [
    "def plot_cities(cities_x, cities_y, names):\n",
    "    plt.scatter(cities_x, cities_y)\n",
    "    for n, x, y in zip(names, cities_x, cities_y):\n",
    "        plt.annotate(n, (x, y), fontsize=12)"
   ]
  },
  {
   "cell_type": "code",
   "execution_count": 3,
   "metadata": {},
   "outputs": [],
   "source": [
    "def plot_sol(sol, cost, algo, cities_df):\n",
    "    plt.title(\"TSP Using \" + algo + '\\n Cost: ' + str(cost))\n",
    "    plot_cities(cities_df['x'], cities_df['y'], cities_df['City'])\n",
    "    for i in range(len(sol)-1):\n",
    "        c1_x, c1_y = sol[i].x, sol[i].y\n",
    "        c2_x, c2_y = sol[i+1].x, sol[i+1].y\n",
    "        \n",
    "        plt.plot([c1_x, c2_x], [c1_y, c2_y], color='red')\n",
    "        plt.pause(0.0001)\n",
    "\n",
    "    plt.show()"
   ]
  },
  {
   "attachments": {},
   "cell_type": "markdown",
   "metadata": {},
   "source": [
    "# Nearest Neighbour"
   ]
  },
  {
   "attachments": {},
   "cell_type": "markdown",
   "metadata": {},
   "source": [
    "# Genetics Solution"
   ]
  },
  {
   "cell_type": "code",
   "execution_count": 4,
   "metadata": {},
   "outputs": [],
   "source": [
    "df = pd.read_csv(\"15-Points.csv\")\n",
    "dist_mat = gen_distance_matrix(df)\n",
    "crossover_prob = 0.7\n",
    "population_size = 400\n",
    "mutation_prob = 0.3\n",
    "elatism_number = 100\n",
    "max_loops = 100\n",
    "\n",
    "sol = genetic_algo(df, crossover_prob, population_size, mutation_prob, elatism_number, max_loops)\n"
   ]
  },
  {
   "cell_type": "code",
   "execution_count": 5,
   "metadata": {},
   "outputs": [
    {
     "name": "stdout",
     "output_type": "stream",
     "text": [
      "[Genes: [Name: 6 X: -29.0585 Y: -43.2167\n",
      " Name: 4 X: -14.6577 Y: -43.3896\n",
      " Name: 11 X: -0.135819 Y: -28.7293\n",
      " Name: 1 X: 5.5e-08 Y: 9.86e-09\n",
      " Name: 13 X: -21.4983 Y: 7.31942\n",
      " Name: 2 X: -28.8733 Y: -7.98e-08\n",
      " Name: 8 X: -36.0366 Y: -21.6135\n",
      " Name: 10 X: -50.5859 Y: -21.5882\n",
      " Name: 9 X: -50.4808 Y: 7.37447\n",
      " Name: 15 X: -43.07 Y: 14.5548\n",
      " Name: 5 X: -64.7473 Y: 21.8982\n",
      " Name: 7 X: -72.0785 Y: 0.181581\n",
      " Name: 3 X: -79.2916 Y: -21.4033\n",
      " Name: 12 X: -65.0866 Y: -36.0625\n",
      " Name: 14 X: -57.5687 Y: -43.2506\n",
      " Name: 6 X: -29.0585 Y: -43.2167\n",
      "]\n",
      "Cost: 301.3583384037504\n",
      "Fitness: 0.003318308712799682]\n"
     ]
    }
   ],
   "source": [
    "print(sol)"
   ]
  },
  {
   "cell_type": "code",
   "execution_count": 6,
   "metadata": {},
   "outputs": [
    {
     "data": {
      "text/plain": [
       "list"
      ]
     },
     "execution_count": 6,
     "metadata": {},
     "output_type": "execute_result"
    }
   ],
   "source": [
    "type(sol)"
   ]
  },
  {
   "cell_type": "code",
   "execution_count": 7,
   "metadata": {},
   "outputs": [
    {
     "data": {
      "text/plain": [
       "301.3583384037504"
      ]
     },
     "execution_count": 7,
     "metadata": {},
     "output_type": "execute_result"
    }
   ],
   "source": [
    "sol[0].cost"
   ]
  },
  {
   "cell_type": "code",
   "execution_count": 8,
   "metadata": {},
   "outputs": [
    {
     "ename": "",
     "evalue": "",
     "output_type": "error",
     "traceback": [
      "\u001b[1;31mThe Kernel crashed while executing code in the the current cell or a previous cell. Please review the code in the cell(s) to identify a possible cause of the failure. Click <a href='https://aka.ms/vscodeJupyterKernelCrash'>here</a> for more info. View Jupyter <a href='command:jupyter.viewOutput'>log</a> for further details."
     ]
    }
   ],
   "source": [
    "plot_sol(sol[0].genes, sol[0].cost, \"Genetics Algo\", df)"
   ]
  },
  {
   "attachments": {},
   "cell_type": "markdown",
   "metadata": {},
   "source": [
    "# Ant Colony "
   ]
  },
  {
   "cell_type": "code",
   "execution_count": null,
   "metadata": {},
   "outputs": [],
   "source": []
  }
 ],
 "metadata": {
  "kernelspec": {
   "display_name": "try",
   "language": "python",
   "name": "python3"
  },
  "language_info": {
   "codemirror_mode": {
    "name": "ipython",
    "version": 3
   },
   "file_extension": ".py",
   "mimetype": "text/x-python",
   "name": "python",
   "nbconvert_exporter": "python",
   "pygments_lexer": "ipython3",
   "version": "3.9.7"
  },
  "orig_nbformat": 4
 },
 "nbformat": 4,
 "nbformat_minor": 2
}
